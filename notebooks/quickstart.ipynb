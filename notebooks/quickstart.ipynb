{
 "cells": [
  {
   "cell_type": "markdown",
   "metadata": {},
   "source": [
    "# STEMS Quickstart Guide\n",
    "\n",
    "This notebook demonstrates the basic usage of the STEMS (Segmented Time-series End-to-end Multi-scale/Multimodal System) package."
   ]
  },
  {
   "cell_type": "code",
   "execution_count": null,
   "metadata": {},
   "source": [
    "import numpy as np\n",
    "import torch\n",
    "from stems.model import STEMSModel\n",
    "from stems.data import TimeSeriesDataset, create_dataloader\n",
    "from stems.utils import set_seed"
   ]
  },
  {
   "cell_type": "markdown",
   "metadata": {},
   "source": [
    "## 1. Create Synthetic Data"
   ]
  },
  {
   "cell_type": "code",
   "execution_count": null,
   "metadata": {},
   "source": [
    "# Set random seed for reproducibility\n",
    "set_seed(42)\n",
    "\n",
    "# Generate synthetic time series data\n",
    "n_samples = 100\n",
    "time_steps = 1000\n",
    "n_channels = 1\n",
    "\n",
    "data = []\n",
    "labels = []\n",
    "\n",
    "for _ in range(n_samples):\n",
    "    # Create a random time series\n",
    "    x = np.random.randn(n_channels, time_steps)\n",
    "    y = np.random.randint(0, 2)\n",
    "    data.append(x)\n",
    "    labels.append(y)"
   ]
  },
  {
   "cell_type": "markdown",
   "metadata": {},
   "source": [
    "## 2. Create Dataset and DataLoader"
   ]
  },
  {
   "cell_type": "code",
   "execution_count": null,
   "metadata": {},
   "source": [
    "# Create dataset\n",
    "dataset = TimeSeriesDataset(data, labels)\n",
    "\n",
    "# Create dataloader\n",
    "dataloader = create_dataloader(\n",
    "    dataset,\n",
    "    batch_size=16,\n",
    "    shuffle=True,\n",
    "    dynamic_batching=True\n",
    ")"
   ]
  },
  {
   "cell_type": "markdown",
   "metadata": {},
   "source": [
    "## 3. Initialize and Train Model"
   ]
  },
  {
   "cell_type": "code",
   "execution_count": null,
   "metadata": {},
   "source": [
    "# Initialize model\n",
    "model = STEMSModel()\n",
    "\n",
    "# Set up optimizer\n",
    "optimizer = torch.optim.Adam(model.parameters(), lr=1e-3)\n",
    "criterion = torch.nn.CrossEntropyLoss()\n",
    "\n",
    "# Training loop\n",
    "n_epochs = 5\n",
    "\n",
    "for epoch in range(n_epochs):\n",
    "    model.train()\n",
    "    total_loss = 0\n",
    "    \n",
    "    for batch_x, batch_y in dataloader:\n",
    "        optimizer.zero_grad()\n",
    "        \n",
    "        # Forward pass\n",
    "        logits, kl_div = model(batch_x)\n",
    "        loss = criterion(logits, batch_y) + kl_div\n",
    "        \n",
    "        # Backward pass\n",
    "        loss.backward()\n",
    "        optimizer.step()\n",
    "        \n",
    "        total_loss += loss.item()\n",
    "    \n",
    "    print(f\"Epoch {epoch+1}, Loss: {total_loss/len(dataloader):.4f}\")"
   ]
  },
  {
   "cell_type": "markdown",
   "metadata": {},
   "source": [
    "## 4. Make Predictions"
   ]
  },
  {
   "cell_type": "code",
   "execution_count": null,
   "metadata": {},
   "source": [
    "# Switch to evaluation mode\n",
    "model.eval()\n",
    "\n",
    "# Get predictions for a batch\n",
    "batch_x, batch_y = next(iter(dataloader))\n",
    "with torch.no_grad():\n",
    "    logits, _ = model(batch_x)\n",
    "    probs = torch.softmax(logits, dim=-1)\n",
    "    preds = torch.argmax(logits, dim=-1)\n",
    "\n",
    "print(\"Predictions:\", preds)\n",
    "print(\"Ground Truth:\", batch_y)"
   ]
  }
 ],
 "metadata": {
  "kernelspec": {
   "display_name": "Python 3",
   "language": "python",
   "name": "python3"
  },
  "language_info": {
   "codemirror_mode": {
    "name": "ipython",
    "version": 3
   },
   "file_extension": ".py",
   "mimetype": "text/x-python",
   "name": "python",
   "nbconvert_exporter": "python",
   "pygments_lexer": "ipython3",
   "version": "3.8.0"
  }
 },
 "nbformat": 4,
 "nbformat_minor": 4
}
